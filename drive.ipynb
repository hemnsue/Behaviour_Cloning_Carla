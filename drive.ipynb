{
 "cells": [
  {
   "cell_type": "code",
   "execution_count": null,
   "metadata": {},
   "outputs": [],
   "source": [
    "import carla\n",
    "import numpy as np\n",
    "import cv2"
   ]
  },
  {
   "cell_type": "code",
   "execution_count": null,
   "metadata": {},
   "outputs": [],
   "source": [
    "import random\n",
    "import time\n",
    "from keras.models import load_model\n",
    "from agents.navigation.behavior_agent import BehaviorAgent"
   ]
  },
  {
   "cell_type": "code",
   "execution_count": null,
   "metadata": {},
   "outputs": [],
   "source": [
    "client=carla.Client(\"localhost\",2000)\n",
    "world=client.get_world()"
   ]
  },
  {
   "cell_type": "code",
   "execution_count": null,
   "metadata": {},
   "outputs": [],
   "source": [
    "blueprint_library = world.get_blueprint_library()\n",
    "spawnpoints=world.get_map().get_spawn_points()"
   ]
  },
  {
   "cell_type": "code",
   "execution_count": null,
   "metadata": {},
   "outputs": [],
   "source": [
    "ar=blueprint_library.find(\"vehicle.mercedes.coupe_2020\")\n",
    "transforms=random.choice(spawnpoints)\n",
    "car=world.try_spawn_actor(ar,transforms)"
   ]
  },
  {
   "cell_type": "code",
   "execution_count": null,
   "metadata": {},
   "outputs": [],
   "source": [
    "spectator=world.get_spectator()\n",
    "x=carla.Transform(car.get_transform().transform(carla.Location(x=-0.4,z=1.8)),car.get_transform().rotation)\n",
    "spectator.set_transform(x)"
   ]
  },
  {
   "cell_type": "code",
   "execution_count": null,
   "metadata": {},
   "outputs": [],
   "source": [
    "cam=blueprint_library.find(\"sensor.camera.rgb\")\n",
    "cam.set_attribute(\"image_size_x\",\"1920\")\n",
    "cam.set_attribute(\"image_size_y\",\"1080\")\n",
    "cam.set_attribute(\"fov\",\"110\")\n",
    "cam.set_attribute(\"sensor_tick\",\".2\")\n",
    "transforms=carla.Transform(carla.Location(z=1.8,x=-.2))\n",
    "camera=world.spawn_actor(cam,transforms,attach_to=car)\n",
    "time.sleep(.2)\n"
   ]
  },
  {
   "cell_type": "code",
   "execution_count": null,
   "metadata": {},
   "outputs": [],
   "source": [
    "def show_me(image,camera_data):\n",
    "    r=np.array(image.raw_data)\n",
    "    r1=r.reshape((1080,1920,4))\n",
    "    r2=r1[:,:,:3]\n",
    "    im=cv2.cvtColor(r2,cv2.COLOR_BGR2YUV)\n",
    "    im=cv2.GaussianBlur(im,(3,3),0)\n",
    "    im=cv2.resize(im,(400,225))\n",
    "    #im1=np.array([im])\n",
    "    im1=np.array([im])\n",
    "    camera_data[\"zs\"]=im1\n",
    "    "
   ]
  },
  {
   "cell_type": "code",
   "execution_count": null,
   "metadata": {},
   "outputs": [],
   "source": [
    "image_w=cam.get_attribute(\"image_size_x\").as_int()\n",
    "image_h=cam.get_attribute(\"image_size_y\").as_int()\n",
    "camera_data={\"zs\":np.zeros((image_h,image_w,3))}\n",
    "camera.listen(lambda image:show_me(image,camera_data))"
   ]
  },
  {
   "cell_type": "code",
   "execution_count": null,
   "metadata": {},
   "outputs": [],
   "source": [
    "strmodel=load_model(\"C:\\\\Carla\\\\CARLA_0.9.14\\\\WindowsNoEditor\\\\PythonAPI\\\\examples\\\\behaviour cloning\\\\model_a.h5\")\n",
    "thrmodel=load_model(\"C:\\\\Carla\\\\CARLA_0.9.14\\\\WindowsNoEditor\\\\PythonAPI\\\\examples\\\\behaviour cloning\\\\model_b.h5\")\n",
    "brkmodel=load_model(\"C:\\\\Carla\\\\CARLA_0.9.14\\\\WindowsNoEditor\\\\PythonAPI\\\\examples\\\\behaviour cloning\\\\model_c.h5\")"
   ]
  },
  {
   "cell_type": "code",
   "execution_count": null,
   "metadata": {},
   "outputs": [],
   "source": [
    "agent=BehaviorAgent(car,behavior=\"normal\")\n",
    "time_pres=time.time()\n",
    "st=0\n",
    "br=0\n",
    "thr=0\n",
    "while True:\n",
    "    if agent.done():\n",
    "        agent.set_destination(random.choice(spawnpoints).location)\n",
    "        print(\"Target has been reached, searching for next target\")\n",
    "    steer1=float(strmodel.predict(camera_data[\"zs\"]))\n",
    "    throttle1=float(thrmodel.predict(camera_data[\"zs\"]))\n",
    "    brake1=float(brkmodel.predict(camera_data[\"zs\"]))\n",
    "    if thr<=throttle1:\n",
    "        control=carla.VehicleControl(throttle=throttle1)\n",
    "        thr=throttle1\n",
    "        st=steer1\n",
    "    elif thr>throttle1 and steer1>=st or steer1<=st:\n",
    "        control=carla.VehicleControl(steer=steer1)\n",
    "        thr=throttle1\n",
    "        st=steer1\n",
    "    else:\n",
    "        control=carla.VehicleControl(brake=brake1)\n",
    "        thr=throttle1\n",
    "        st=steer1\n",
    "\n",
    "    print(control)\n",
    "    car.apply_control(control)\n"
   ]
  }
 ],
 "metadata": {
  "kernelspec": {
   "display_name": "carla-sim",
   "language": "python",
   "name": "python3"
  },
  "language_info": {
   "codemirror_mode": {
    "name": "ipython",
    "version": 3
   },
   "file_extension": ".py",
   "mimetype": "text/x-python",
   "name": "python",
   "nbconvert_exporter": "python",
   "pygments_lexer": "ipython3",
   "version": "3.7.16"
  },
  "orig_nbformat": 4
 },
 "nbformat": 4,
 "nbformat_minor": 2
}
