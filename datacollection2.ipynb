{
 "cells": [
  {
   "cell_type": "code",
   "execution_count": 59,
   "metadata": {},
   "outputs": [],
   "source": [
    "import carla\n",
    "import numpy as np\n",
    "import cv2\n"
   ]
  },
  {
   "cell_type": "code",
   "execution_count": 60,
   "metadata": {},
   "outputs": [],
   "source": [
    "import random\n",
    "import time\n",
    "from PIL import Image\n",
    "import pandas as pd\n"
   ]
  },
  {
   "cell_type": "code",
   "execution_count": 61,
   "metadata": {},
   "outputs": [],
   "source": [
    "client=carla.Client(\"localhost\",2000)\n",
    "world=client.get_world()\n",
    "steer_angle_info=[]\n",
    "throttle_in_info=[]\n",
    "brake_in_info=[]\n",
    "save_img_info=[]\n",
    "steer_angle_info1=[]\n",
    "throttle_in_info1=[]\n",
    "brake_in_info1=[]\n",
    "save_img_info1=[]"
   ]
  },
  {
   "cell_type": "code",
   "execution_count": 62,
   "metadata": {},
   "outputs": [],
   "source": [
    "allspawn=[]"
   ]
  },
  {
   "cell_type": "code",
   "execution_count": 63,
   "metadata": {},
   "outputs": [],
   "source": [
    "blueprint_library = world.get_blueprint_library()\n",
    "spawnpoints=world.get_map().get_spawn_points()"
   ]
  },
  {
   "cell_type": "code",
   "execution_count": 64,
   "metadata": {},
   "outputs": [],
   "source": [
    "ar=blueprint_library.find(\"vehicle.mercedes.coupe_2020\")\n",
    "transforms1=random.choice(spawnpoints)\n",
    "allspawn.append(transforms1)\n",
    "car=world.try_spawn_actor(ar,transforms1)"
   ]
  },
  {
   "cell_type": "code",
   "execution_count": 65,
   "metadata": {},
   "outputs": [],
   "source": [
    "ar=blueprint_library.find(\"vehicle.mercedes.coupe_2020\")\n",
    "while True:\n",
    "    transforms2=random.choice(spawnpoints)\n",
    "    if transforms2 not in allspawn:\n",
    "        allspawn.append(transforms2)\n",
    "        break\n",
    "car1=world.try_spawn_actor(ar,allspawn[1])"
   ]
  },
  {
   "cell_type": "code",
   "execution_count": 66,
   "metadata": {},
   "outputs": [],
   "source": [
    "spectator=world.get_spectator()\n",
    "x=carla.Transform(car1.get_transform().transform(carla.Location(x=-0.4,z=1.8)),car1.get_transform().rotation)\n",
    "spectator.set_transform(x)"
   ]
  },
  {
   "cell_type": "code",
   "execution_count": 67,
   "metadata": {},
   "outputs": [],
   "source": [
    "cam1=blueprint_library.find(\"sensor.camera.rgb\")\n",
    "cam1.set_attribute(\"image_size_x\",\"1920\")\n",
    "cam1.set_attribute(\"image_size_y\",\"1080\")\n",
    "cam1.set_attribute(\"fov\",\"110\")\n",
    "cam1.set_attribute(\"sensor_tick\",\"0.5\")\n",
    "transforms=carla.Transform(carla.Location(z=1.8,x=-.2))\n",
    "camera=world.spawn_actor(cam1,transforms,attach_to=car)\n"
   ]
  },
  {
   "cell_type": "code",
   "execution_count": 68,
   "metadata": {},
   "outputs": [],
   "source": [
    "cam=blueprint_library.find(\"sensor.camera.rgb\")\n",
    "cam.set_attribute(\"image_size_x\",\"1920\")\n",
    "cam.set_attribute(\"image_size_y\",\"1080\")\n",
    "cam.set_attribute(\"fov\",\"110\")\n",
    "cam.set_attribute(\"sensor_tick\",\"0.5\")\n",
    "transforms=carla.Transform(carla.Location(z=1.8,x=-.2))\n",
    "camera1=world.spawn_actor(cam,transforms,attach_to=car1)\n",
    "\n"
   ]
  },
  {
   "cell_type": "code",
   "execution_count": 69,
   "metadata": {},
   "outputs": [],
   "source": [
    "car1.set_autopilot()\n",
    "\n"
   ]
  },
  {
   "cell_type": "code",
   "execution_count": 70,
   "metadata": {},
   "outputs": [],
   "source": [
    "car.set_autopilot()"
   ]
  },
  {
   "cell_type": "code",
   "execution_count": 71,
   "metadata": {},
   "outputs": [],
   "source": [
    "def show_me(image):\n",
    "    r=np.array(image.raw_data)\n",
    "    r1=r.reshape((1080,1920,4))\n",
    "    r2=r1[:,:,:3]\n",
    "    im=cv2.cvtColor(r2,cv2.COLOR_BGR2RGB)\n",
    "    im=Image.fromarray(im)\n",
    "    A=image.frame\n",
    "    im.save('pokemon4/%06d.png'%A)\n",
    "    save_img_info.append('pokemon4/%06d.png'%A)\n",
    "    steer_angle_info.append(car.get_control().steer)\n",
    "    throttle_in_info.append(car.get_control().throttle)\n",
    "    brake_in_info.append(car.get_control().brake)\n",
    "    #camera_data[\"zs\"]=r2\n",
    "    "
   ]
  },
  {
   "cell_type": "code",
   "execution_count": 72,
   "metadata": {},
   "outputs": [],
   "source": [
    "def show_me1(image):\n",
    "    r=np.array(image.raw_data)\n",
    "    r1=r.reshape((1080,1920,4))\n",
    "    r2=r1[:,:,:3]\n",
    "    im=cv2.cvtColor(r2,cv2.COLOR_BGR2RGB)\n",
    "    im=Image.fromarray(im)\n",
    "    A=image.frame\n",
    "    im.save('pokemon5/%06d.png'%A)\n",
    "    save_img_info1.append('pokemon4/%06d.png'%A)\n",
    "    steer_angle_info1.append(car1.get_control().steer)\n",
    "    throttle_in_info1.append(car1.get_control().throttle)\n",
    "    brake_in_info1.append(car1.get_control().brake)\n",
    "\n",
    "    "
   ]
  },
  {
   "cell_type": "code",
   "execution_count": 73,
   "metadata": {},
   "outputs": [],
   "source": [
    "a=time.time()"
   ]
  },
  {
   "cell_type": "code",
   "execution_count": 74,
   "metadata": {},
   "outputs": [],
   "source": [
    "\n",
    "camera.listen(lambda image:show_me1(image))\n",
    "\n",
    "  "
   ]
  },
  {
   "cell_type": "code",
   "execution_count": 75,
   "metadata": {},
   "outputs": [],
   "source": [
    "camera1.listen(lambda image:show_me(image))\n",
    "\n",
    "\n"
   ]
  },
  {
   "cell_type": "code",
   "execution_count": 76,
   "metadata": {},
   "outputs": [],
   "source": [
    "def updater(image,lis1,lis2,lis3):\n",
    "    if len(image)>len(lis1):\n",
    "        image.pop()\n",
    "    elif len(lis1)>len(lis2):\n",
    "        image.pop()\n",
    "        lis1.pop()\n",
    "    elif len(lis2)>len(lis3):\n",
    "        image.pop()\n",
    "        lis1.pop()\n",
    "        lis2.pop()                    "
   ]
  },
  {
   "cell_type": "code",
   "execution_count": 77,
   "metadata": {},
   "outputs": [
    {
     "data": {
      "text/plain": [
       "True"
      ]
     },
     "execution_count": 77,
     "metadata": {},
     "output_type": "execute_result"
    }
   ],
   "source": [
    "time.sleep(10)\n",
    "updater(save_img_info,throttle_in_info,steer_angle_info,brake_in_info)\n",
    "df=pd.DataFrame({\"cam_path\":save_img_info,\"Throttle\":throttle_in_info,\"Steering\":steer_angle_info,\"Braking\":brake_in_info})\n",
    "updater(save_img_info1,throttle_in_info1,steer_angle_info1,brake_in_info1)\n",
    "df1=pd.DataFrame({\"cam_path\":save_img_info1,\"Throttle\":throttle_in_info1,\"Steering\":steer_angle_info1,\"Braking\":brake_in_info1})\n",
    "df.to_csv(r\"D:\\\\Carla Dataset formation\\\\data2.csv\")\n",
    "df1.to_csv(r\"D:\\\\Carla Dataset formation\\\\data1.csv\")\n",
    "camera1.destroy()\n",
    "car1.destroy()\n",
    "car.destroy()\n",
    "camera.destroy()"
   ]
  }
 ],
 "metadata": {
  "kernelspec": {
   "display_name": "carla-sim",
   "language": "python",
   "name": "python3"
  },
  "language_info": {
   "codemirror_mode": {
    "name": "ipython",
    "version": 3
   },
   "file_extension": ".py",
   "mimetype": "text/x-python",
   "name": "python",
   "nbconvert_exporter": "python",
   "pygments_lexer": "ipython3",
   "version": "3.7.16"
  },
  "orig_nbformat": 4
 },
 "nbformat": 4,
 "nbformat_minor": 2
}
