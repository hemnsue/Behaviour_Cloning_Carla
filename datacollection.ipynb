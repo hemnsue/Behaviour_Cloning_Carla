{
 "cells": [
  {
   "cell_type": "code",
   "execution_count": null,
   "metadata": {},
   "outputs": [],
   "source": [
    "import carla\n",
    "import numpy as np\n",
    "import cv2\n"
   ]
  },
  {
   "cell_type": "code",
   "execution_count": null,
   "metadata": {},
   "outputs": [],
   "source": [
    "import matplotlib.pyplot as plt\n",
    "import random\n",
    "import time\n",
    "from PIL import Image\n",
    "import pandas as pd\n"
   ]
  },
  {
   "cell_type": "code",
   "execution_count": null,
   "metadata": {},
   "outputs": [],
   "source": [
    "client=carla.Client(\"localhost\",2000)\n",
    "world=client.get_world()\n"
   ]
  },
  {
   "cell_type": "code",
   "execution_count": null,
   "metadata": {},
   "outputs": [],
   "source": [
    "steer_angle_info2=[]\n",
    "throttle_in_info2=[]\n",
    "brake_in_info2=[]\n",
    "save_img_info2=[]"
   ]
  },
  {
   "cell_type": "code",
   "execution_count": null,
   "metadata": {},
   "outputs": [],
   "source": [
    "steer_angle_info3=[]\n",
    "throttle_in_info3=[]\n",
    "brake_in_info3=[]\n",
    "save_img_info3=[]"
   ]
  },
  {
   "cell_type": "code",
   "execution_count": null,
   "metadata": {},
   "outputs": [],
   "source": [
    "allspawn=[]"
   ]
  },
  {
   "cell_type": "code",
   "execution_count": null,
   "metadata": {},
   "outputs": [],
   "source": [
    "blueprint_library = world.get_blueprint_library()\n",
    "spawnpoints=world.get_map().get_spawn_points()"
   ]
  },
  {
   "cell_type": "code",
   "execution_count": null,
   "metadata": {},
   "outputs": [],
   "source": [
    "ar=blueprint_library.find(\"vehicle.mercedes.coupe_2020\")\n",
    "while True:\n",
    "    transforms2=random.choice(spawnpoints)\n",
    "    if transforms2 not in allspawn:\n",
    "        allspawn.append(transforms2)\n",
    "        break\n",
    "car2=world.try_spawn_actor(ar,allspawn[0])"
   ]
  },
  {
   "cell_type": "code",
   "execution_count": null,
   "metadata": {},
   "outputs": [],
   "source": [
    "ar=blueprint_library.find(\"vehicle.mercedes.coupe_2020\")\n",
    "while True:\n",
    "    transforms2=random.choice(spawnpoints)\n",
    "    if transforms2 not in allspawn:\n",
    "        allspawn.append(transforms2)\n",
    "        break\n",
    "car3=world.try_spawn_actor(ar,allspawn[1])"
   ]
  },
  {
   "cell_type": "code",
   "execution_count": null,
   "metadata": {},
   "outputs": [],
   "source": [
    "spectator=world.get_spectator()\n",
    "x=carla.Transform(car2.get_transform().transform(carla.Location(x=-0.4,z=1.8)),car2.get_transform().rotation)\n",
    "spectator.set_transform(x)"
   ]
  },
  {
   "cell_type": "code",
   "execution_count": null,
   "metadata": {},
   "outputs": [],
   "source": [
    "cam2=blueprint_library.find(\"sensor.camera.rgb\")\n",
    "cam2.set_attribute(\"image_size_x\",\"1920\")\n",
    "cam2.set_attribute(\"image_size_y\",\"1080\")\n",
    "cam2.set_attribute(\"fov\",\"110\")\n",
    "cam2.set_attribute(\"sensor_tick\",\".5\")\n",
    "transforms=carla.Transform(carla.Location(z=1.8,x=-.2))\n",
    "camera2=world.spawn_actor(cam2,transforms,attach_to=car2)\n",
    "time.sleep(.2)\n",
    "\n"
   ]
  },
  {
   "cell_type": "code",
   "execution_count": null,
   "metadata": {},
   "outputs": [],
   "source": [
    "cam3=blueprint_library.find(\"sensor.camera.rgb\")\n",
    "cam3.set_attribute(\"image_size_x\",\"1920\")\n",
    "cam3.set_attribute(\"image_size_y\",\"1080\")\n",
    "cam3.set_attribute(\"fov\",\"110\")\n",
    "cam3.set_attribute(\"sensor_tick\",\".5\")\n",
    "transforms=carla.Transform(carla.Location(z=1.8,x=-.2))\n",
    "camera3=world.spawn_actor(cam3,transforms,attach_to=car3)\n",
    "time.sleep(.2)\n",
    "\n"
   ]
  },
  {
   "cell_type": "code",
   "execution_count": null,
   "metadata": {},
   "outputs": [],
   "source": [
    "car2.set_autopilot()\n",
    "time.sleep(.2)"
   ]
  },
  {
   "cell_type": "code",
   "execution_count": null,
   "metadata": {},
   "outputs": [],
   "source": [
    "car3.set_autopilot()\n",
    "time.sleep(.2)"
   ]
  },
  {
   "cell_type": "code",
   "execution_count": null,
   "metadata": {},
   "outputs": [],
   "source": [
    "def show_me(image,camera_data):\n",
    "    r=np.array(image.raw_data)\n",
    "    r1=r.reshape((1080,1920,4))\n",
    "    r2=r1[:,:,:3]\n",
    "    im=cv2.cvtColor(r2,cv2.COLOR_BGR2RGB)\n",
    "    im=Image.fromarray(im)\n",
    "    A=image.frame\n",
    "    im.save('pokemon3/%06d.png'%A)\n",
    "    save_img_info3.append('pokemon3/%06d.png'%A)\n",
    "    steer_angle_info3.append(car3.get_control().steer)\n",
    "    throttle_in_info3.append(car3.get_control().throttle)\n",
    "    brake_in_info3.append(car3.get_control().brake)\n",
    "    camera_data[\"zs\"]=r2\n",
    "    "
   ]
  },
  {
   "cell_type": "code",
   "execution_count": null,
   "metadata": {},
   "outputs": [],
   "source": [
    "def show_me2(image):\n",
    "    r=np.array(image.raw_data)\n",
    "    r1=r.reshape((1080,1920,4))\n",
    "    r2=r1[:,:,:3]\n",
    "    im=cv2.cvtColor(r2,cv2.COLOR_BGR2RGB)\n",
    "    im=Image.fromarray(im)\n",
    "    A=image.frame\n",
    "    im.save('pokemon3/%06d.png'%A)\n",
    "    save_img_info2.append('pokemon3/%06d.png'%A)\n",
    "    steer_angle_info2.append(car2.get_control().steer)\n",
    "    throttle_in_info2.append(car2.get_control().throttle)\n",
    "    brake_in_info2.append(car2.get_control().brake)\n",
    "\n",
    "    "
   ]
  },
  {
   "cell_type": "code",
   "execution_count": null,
   "metadata": {},
   "outputs": [],
   "source": [
    "camera2.listen(lambda image:show_me2(image))\n",
    "time.sleep(.1)\n"
   ]
  },
  {
   "cell_type": "code",
   "execution_count": null,
   "metadata": {},
   "outputs": [],
   "source": [
    "image_w=cam3.get_attribute(\"image_size_x\").as_int()\n",
    "image_h=cam3.get_attribute(\"image_size_y\").as_int()\n",
    "camera_data={\"zs\":np.zeros((image_h,image_w,3))}\n",
    "camera3.listen(lambda image:show_me(image,camera_data))\n",
    "time.sleep(.1)\n",
    "\n"
   ]
  },
  {
   "cell_type": "code",
   "execution_count": null,
   "metadata": {},
   "outputs": [],
   "source": [
    "def updater(image,lis1,lis2,lis3):\n",
    "    if len(image)>len(lis1):\n",
    "        image.pop()\n",
    "    elif len(lis1)>len(lis2):\n",
    "        image.pop()\n",
    "        lis1.pop()\n",
    "    elif len(lis2)>len(lis3):\n",
    "        image.pop()\n",
    "        lis1.pop()\n",
    "        lis2.pop()                    "
   ]
  },
  {
   "cell_type": "code",
   "execution_count": null,
   "metadata": {},
   "outputs": [],
   "source": [
    "cv2.namedWindow(\"RGB CAMERA\",cv2.WINDOW_AUTOSIZE)\n",
    "cv2.waitKey(1)\n",
    "while True:\n",
    "    cv2.imshow(\"RGB CAMERA\",camera_data[\"zs\"])\n",
    "    if cv2.waitKey(1) & 0xFF ==ord(\"Q\"):\n",
    "        camera2.destroy()\n",
    "        camera3.destroy()\n",
    "        car2.destroy()\n",
    "        car3.destroy()\n",
    "        updater(save_img_info2,throttle_in_info2,steer_angle_info2,brake_in_info2)\n",
    "        df2=pd.DataFrame({\"cam_path\":save_img_info2,\"Throttle\":throttle_in_info2,\"Steering\":steer_angle_info2,\"Braking\":brake_in_info2})\n",
    "        updater(save_img_info3,throttle_in_info3,steer_angle_info3,brake_in_info3)\n",
    "        df3=pd.DataFrame({\"cam_path\":save_img_info3,\"Throttle\":throttle_in_info3,\"Steering\":steer_angle_info3,\"Braking\":brake_in_info3})\n",
    "        df2.to_csv(r\"D:\\\\Carla Dataset formation\\\\data5.csv\")\n",
    "        df3.to_csv(r\"D:\\\\Carla Dataset formation\\\\data6.csv\")\n",
    "        \n",
    "        break\n",
    "cv2.destroyAllWindows()"
   ]
  }
 ],
 "metadata": {
  "kernelspec": {
   "display_name": "carla-sim",
   "language": "python",
   "name": "python3"
  },
  "language_info": {
   "codemirror_mode": {
    "name": "ipython",
    "version": 3
   },
   "file_extension": ".py",
   "mimetype": "text/x-python",
   "name": "python",
   "nbconvert_exporter": "python",
   "pygments_lexer": "ipython3",
   "version": "3.7.16"
  },
  "orig_nbformat": 4
 },
 "nbformat": 4,
 "nbformat_minor": 2
}
